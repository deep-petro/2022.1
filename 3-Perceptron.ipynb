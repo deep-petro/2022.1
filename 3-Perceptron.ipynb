{
 "cells": [
  {
   "cell_type": "markdown",
   "metadata": {
    "id": "NG-mVsVuE0if"
   },
   "source": [
    "# Perceptron (Aprendizado Profundo - UFMG)\n",
    "\n",
    "## Preâmbulo\n",
    "\n",
    "Imports e configurando os plots"
   ]
  },
  {
   "cell_type": "code",
   "execution_count": null,
   "metadata": {
    "id": "fEHmMCjR4PJw"
   },
   "outputs": [],
   "source": [
    "from sklearn.datasets import make_circles\n",
    "\n",
    "import matplotlib.pyplot as plt\n",
    "import numpy as np\n",
    "\n",
    "import torch"
   ]
  },
  {
   "cell_type": "code",
   "execution_count": null,
   "metadata": {},
   "outputs": [],
   "source": [
    "plt.rcParams['figure.figsize'] = (8, 5)\n",
    "\n",
    "plt.rcParams['axes.axisbelow'] = True \n",
    "plt.rcParams['axes.labelsize'] = 16\n",
    "plt.rcParams['axes.linewidth'] = 1\n",
    "plt.rcParams['axes.spines.bottom'] = True\n",
    "plt.rcParams['axes.spines.left'] = True\n",
    "plt.rcParams['axes.titlesize'] = 16\n",
    "plt.rcParams['axes.ymargin'] = 0.1\n",
    "\n",
    "plt.rcParams['font.family'] = 'serif'\n",
    "\n",
    "plt.rcParams['axes.grid'] = True\n",
    "plt.rcParams['grid.color'] = 'lightgrey'\n",
    "plt.rcParams['grid.linewidth'] = .1\n",
    "\n",
    "plt.rcParams['xtick.labelsize'] = 16\n",
    "plt.rcParams['xtick.bottom'] = True\n",
    "plt.rcParams['xtick.direction'] = 'out' \n",
    "plt.rcParams['xtick.major.size'] = 10\n",
    "plt.rcParams['xtick.major.width'] = 1\n",
    "plt.rcParams['xtick.minor.size'] = 3\n",
    "plt.rcParams['xtick.minor.width'] = .5\n",
    "plt.rcParams['xtick.minor.visible'] = True\n",
    "\n",
    "plt.rcParams['ytick.labelsize'] = 16\n",
    "plt.rcParams['ytick.left'] = True\n",
    "plt.rcParams['ytick.direction'] = 'out'\n",
    "plt.rcParams['ytick.major.size'] = 10\n",
    "plt.rcParams['ytick.major.width'] = 1\n",
    "plt.rcParams['ytick.minor.size'] = 3\n",
    "plt.rcParams['ytick.minor.width'] = .5\n",
    "plt.rcParams['ytick.minor.visible'] = True\n",
    "\n",
    "plt.rcParams['legend.fontsize'] = 16\n",
    "\n",
    "plt.rcParams['lines.linewidth'] = 4\n",
    "plt.rcParams['lines.markersize'] = 10"
   ]
  },
  {
   "cell_type": "code",
   "execution_count": null,
   "metadata": {},
   "outputs": [],
   "source": [
    "plt.style.use('tableau-colorblind10') # use um estilo colorblind!\n",
    "plt.ion()"
   ]
  },
  {
   "cell_type": "markdown",
   "metadata": {
    "id": "foAaedw6SfR8"
   },
   "source": [
    "Para testar o resultado dos seus algoritmos vamos usar o módulo testing do numpy."
   ]
  },
  {
   "cell_type": "code",
   "execution_count": null,
   "metadata": {
    "id": "mt8ds6cASfR9"
   },
   "outputs": [],
   "source": [
    "from numpy.testing import assert_equal\n",
    "from numpy.testing import assert_almost_equal\n",
    "from numpy.testing import assert_array_almost_equal"
   ]
  },
  {
   "cell_type": "markdown",
   "metadata": {
    "id": "yAZ8iT53SfUe"
   },
   "source": [
    "## Conjunto de Problemas: Perceptron from Scratch\n",
    "\n",
    "Por fim, vamos implementar uma primeira versão do Perceptron usando pytorch. Inicialmente, vamos gerar dois blobs linearmente separáveis. Com um seed bem setado, claramente teremos duas classes abaixo."
   ]
  },
  {
   "cell_type": "code",
   "execution_count": null,
   "metadata": {
    "colab": {
     "base_uri": "https://localhost:8080/",
     "height": 283
    },
    "id": "7IOnqtp7SfUf",
    "outputId": "2216dab4-f1f9-42ec-9e61-66fcb6038339"
   },
   "outputs": [
    {
     "data": {
      "text/plain": [
       "<matplotlib.collections.PathCollection at 0x7fd73014c198>"
      ]
     },
     "execution_count": 102,
     "metadata": {
      "tags": []
     },
     "output_type": "execute_result"
    },
    {
     "data": {
      "image/png": "[encoded data removed]",
      "text/plain": [
       "<Figure size 432x288 with 1 Axes>"
      ]
     },
     "metadata": {
      "needs_background": "light",
      "tags": []
     },
     "output_type": "display_data"
    }
   ],
   "source": [
    "from sklearn import datasets\n",
    "state = np.random.seed(20190187)\n",
    "\n",
    "X, y = datasets.make_blobs(n_samples=200, n_features=2, centers=2)\n",
    "plt.scatter(X[:, 0], X[:, 1], s=80, edgecolors='k')"
   ]
  },
  {
   "cell_type": "markdown",
   "metadata": {
    "id": "bVy1LNc2wk-0"
   },
   "source": [
    "8. Converta X e y para tensores torch"
   ]
  },
  {
   "cell_type": "code",
   "execution_count": null,
   "metadata": {
    "id": "tLAdMqnywoBV"
   },
   "outputs": [],
   "source": [
    "X = # ..\n",
    "y = # .."
   ]
  },
  {
   "cell_type": "markdown",
   "metadata": {
    "id": "1CcoRTP2SfUj"
   },
   "source": [
    "Para realizar as nossas previsões, precisamos aplicar a seguinte função:\n",
    "\n",
    "$$\\hat{y}_i = \\frac{1}{1 + e^{-(1 + \\theta_1 x_{i1} + \\theta_1 x_{i2}) + \\cdots}}$$\n",
    "\n",
    "Aqui $\\hat{y}_i$ é a previsão de um único elemento. Podemos gerar uma matriz de previsões usando a forma matricial abaixo.\n",
    "\n",
    "![](./figs/linear.png)\n",
    "\n",
    "9. Sabendo que precisamos de uma coluna de valores 1 na nossa entrada $\\mathbf{X}$, implemente uma função chamada `add_intercept` que adicionar uma nova coluna em X. A mesma deve retornar uma cópia! Não altere a matriz original."
   ]
  },
  {
   "cell_type": "code",
   "execution_count": null,
   "metadata": {
    "id": "jO_0Ee1Ww4-u"
   },
   "outputs": [],
   "source": [
    "def add_intercept(X):\n",
    "    # implemente\n",
    "    pass"
   ]
  },
  {
   "cell_type": "code",
   "execution_count": null,
   "metadata": {
    "id": "-kykMPlTx6dZ"
   },
   "outputs": [],
   "source": [
    "# testes, não apague!\n",
    "X_teste = torch.zeros(4, 4)\n",
    "X_novo_teste = add_intercept(X_teste)\n",
    "X_novo_teste = X_novo_teste.numpy()\n",
    "assert_equal(X_teste.shape[0], X_novo_teste.shape[0])\n",
    "assert_equal(X_teste.shape[1] + 1, X_novo_teste.shape[1])\n",
    "assert_array_almost_equal(np.ones(X_novo_teste.shape[0]), X_novo_teste[:, 0])"
   ]
  },
  {
   "cell_type": "markdown",
   "metadata": {
    "id": "mPAZSSKrSfUq"
   },
   "source": [
    "10. Implemente uma função activation que faz uso da sigmoid. A mesma deve retornar um vetor de previsões para um X de entrada. Como regra, assuma que quando a ativação tem valor maior do que 0.5 vamos prever a classe 1. Então, sua resposta deve ser um vetor de 0s e 1s apenas. Não use nenhum laço!!"
   ]
  },
  {
   "cell_type": "code",
   "execution_count": null,
   "metadata": {
    "id": "r9sbbuvXyNtN"
   },
   "outputs": [],
   "source": [
    "def activation(X, theta, limiar=0.5):\n",
    "    # implemente\n",
    "    pass"
   ]
  },
  {
   "cell_type": "code",
   "execution_count": null,
   "metadata": {
    "id": "3UniKvffyayH"
   },
   "outputs": [],
   "source": [
    "# testes, não apague!\n",
    "X_teste = torch.randn(1000, 20000)\n",
    "theta = torch.randn(20000,1)\n",
    "y_hat_teste = activation(X_teste, theta)\n",
    "assert_equal(True, (y_hat_teste >= 0).numpy().all())\n",
    "assert_equal(True, (y_hat_teste <= 1).numpy().all())"
   ]
  },
  {
   "cell_type": "markdown",
   "metadata": {
    "id": "acorzPYkSfUt"
   },
   "source": [
    "11. Por fim, implemente agora o algoritmo do perceptron. O mesmo deve retornar um vetor de parâmetros theta. Execute o mesmo em X (com ou sem intercepto, no nosso exemplo simples não importa muito)."
   ]
  },
  {
   "cell_type": "code",
   "execution_count": null,
   "metadata": {
    "colab": {
     "base_uri": "https://localhost:8080/",
     "height": 267
    },
    "id": "AZHr9WSF0xv5",
    "outputId": "677ca047-82ff-42cc-fe24-0de38e840296"
   },
   "outputs": [
    {
     "data": {
      "image/png": "[encoded data removed]",
      "text/plain": [
       "<Figure size 432x288 with 1 Axes>"
      ]
     },
     "metadata": {
      "needs_background": "light",
      "tags": []
     },
     "output_type": "display_data"
    }
   ],
   "source": [
    "state = np.random.seed(2017014421)\n",
    "X, y = datasets.make_blobs(n_samples=200, n_features=2, centers=2)\n",
    "plt.scatter(X[:, 0], X[:, 1], s=80, edgecolors='k')\n",
    "\n",
    "X = torch.tensor(X)\n",
    "y = torch.tensor(y)"
   ]
  },
  {
   "cell_type": "code",
   "execution_count": null,
   "metadata": {
    "id": "MZZZ2FAk079l"
   },
   "outputs": [],
   "source": [
    "def perceptron(X, y, rate=0.005):\n",
    "    Xn = add_intercept(X)\n",
    "    # implemente\n",
    "    pass\n",
    "theta = perceptron(X, y)"
   ]
  },
  {
   "cell_type": "markdown",
   "metadata": {
    "id": "aP5RPMndSfUz"
   },
   "source": [
    "Seu perceptron deve prever perfeitamente as classes!"
   ]
  },
  {
   "cell_type": "code",
   "execution_count": null,
   "metadata": {
    "colab": {
     "base_uri": "https://localhost:8080/"
    },
    "id": "V5Ugv8O2SfU0",
    "outputId": "2f6683b2-e96e-4ce4-a0a6-8038256ab3c6"
   },
   "outputs": [
    {
     "data": {
      "text/plain": [
       "tensor([[True, True, True, True, True, True, True, True, True, True, True, True,\n",
       "         True, True, True, True, True, True, True, True, True, True, True, True,\n",
       "         True, True, True, True, True, True, True, True, True, True, True, True,\n",
       "         True, True, True, True, True, True, True, True, True, True, True, True,\n",
       "         True, True, True, True, True, True, True, True, True, True, True, True,\n",
       "         True, True, True, True, True, True, True, True, True, True, True, True,\n",
       "         True, True, True, True, True, True, True, True, True, True, True, True,\n",
       "         True, True, True, True, True, True, True, True, True, True, True, True,\n",
       "         True, True, True, True, True, True, True, True, True, True, True, True,\n",
       "         True, True, True, True, True, True, True, True, True, True, True, True,\n",
       "         True, True, True, True, True, True, True, True, True, True, True, True,\n",
       "         True, True, True, True, True, True, True, True, True, True, True, True,\n",
       "         True, True, True, True, True, True, True, True, True, True, True, True,\n",
       "         True, True, True, True, True, True, True, True, True, True, True, True,\n",
       "         True, True, True, True, True, True, True, True, True, True, True, True,\n",
       "         True, True, True, True, True, True, True, True, True, True, True, True,\n",
       "         True, True, True, True, True, True, True, True]])"
      ]
     },
     "execution_count": 120,
     "metadata": {
      "tags": []
     },
     "output_type": "execute_result"
    }
   ],
   "source": [
    "Xn = add_intercept(X)\n",
    "y_p = (activation(Xn, theta) > 0.5).view(1,-1).int()\n",
    "y = y.int()\n",
    "(y_p == y).bool().reshape(1,-1)  # deve ser tudo True"
   ]
  }
 ],
 "metadata": {
  "accelerator": "GPU",
  "colab": {
   "collapsed_sections": [],
   "name": "01_2_Introduction_Pytorch_Torchvision.ipynb",
   "provenance": []
  },
  "kernelspec": {
   "display_name": "Python 3 (ipykernel)",
   "language": "python",
   "name": "python3"
  },
  "language_info": {
   "codemirror_mode": {
    "name": "ipython",
    "version": 3
   },
   "file_extension": ".py",
   "mimetype": "text/x-python",
   "name": "python",
   "nbconvert_exporter": "python",
   "pygments_lexer": "ipython3",
   "version": "3.10.2"
  }
 },
 "nbformat": 4,
 "nbformat_minor": 1
}
